{
  "nbformat": 4,
  "nbformat_minor": 0,
  "metadata": {
    "colab": {
      "name": "Untitled2.ipynb",
      "provenance": [],
      "collapsed_sections": [],
      "toc_visible": true
    },
    "kernelspec": {
      "name": "python3",
      "display_name": "Python 3"
    },
    "language_info": {
      "name": "python"
    }
  },
  "cells": [
    {
      "cell_type": "code",
      "execution_count": 45,
      "metadata": {
        "colab": {
          "base_uri": "https://localhost:8080/"
        },
        "id": "gz8fm1YhisX7",
        "outputId": "96f34dd4-a6b7-48dc-f288-6b416a6a6765"
      },
      "outputs": [
        {
          "output_type": "stream",
          "name": "stdout",
          "text": [
            "CLXV  converted to decimal is  [165]\n",
            "93 converted to Roman Numerals is  XCIII\n"
          ]
        }
      ],
      "source": [
        "import numpy as np\n",
        "\n",
        "romanNumerals = np.array(['I', 'V', 'X', 'L', 'C', 'D', 'M'])\n",
        "romanValues = np.array([1, 5, 10, 50, 100, 500, 1000])\n",
        "def romanToDecimal(romanString):\n",
        "  decimalTotal = 0\n",
        "  numValue = 0\n",
        "  i = 0\n",
        "  while i < len(romanString):\n",
        "    currentRomanIndex = np.where(romanNumerals==romanString[i])[0]\n",
        "    if(i < len(romanString) - 1):\n",
        "      nextRomanIndex = np.where(romanNumerals==romanString[i + 1])[0]\n",
        "      if (nextRomanIndex > currentRomanIndex):\n",
        "        numValue = romanValues[nextRomanIndex] - romanValues[currentRomanIndex]\n",
        "        i += 1\n",
        "      else:\n",
        "        numValue = romanValues[currentRomanIndex]\n",
        "    else:\n",
        "      numValue = romanValues[currentRomanIndex]\n",
        "    decimalTotal += numValue\n",
        "    i += 1\n",
        "  print(romanString, \" converted to decimal is \", decimalTotal)\n",
        "def decimalToRoman(number):\n",
        "  strOfNum = str(number)\n",
        "  finalRomanString = \"\"\n",
        "  for i in range(len(strOfNum)):\n",
        "    decimalNumber = int(strOfNum[i])\n",
        "    numZeroes = (len(strOfNum) - 1) - i\n",
        "    romanString = \"\"\n",
        "    romanIndex = numZeroes * 2\n",
        "    if (decimalNumber == 9):\n",
        "      oneNumeral = romanNumerals[romanIndex]\n",
        "      romanString += oneNumeral\n",
        "      tenNumeral = romanNumerals[romanIndex + 2]\n",
        "      romanString += tenNumeral\n",
        "    if (decimalNumber > 4 and decimalNumber < 9):\n",
        "      romanString += romanNumerals[romanIndex + 1]\n",
        "      decimalNumber -= 5\n",
        "    if (decimalNumber < 4):\n",
        "      romanIndex = numZeroes * 2\n",
        "      for _ in range(decimalNumber):\n",
        "        romanString += romanNumerals[romanIndex]\n",
        "    finalRomanString += romanString\n",
        "  print(number, \"converted to Roman Numerals is \", finalRomanString)\n",
        "romanToDecimal(\"CLXV\")\n",
        "decimalToRoman(93)\n"
      ]
    }
  ]
}